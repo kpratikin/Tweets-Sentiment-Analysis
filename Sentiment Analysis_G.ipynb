{
 "cells": [
  {
   "cell_type": "markdown",
   "metadata": {},
   "source": [
    "# <center>Sentimental Analysis (in Python)</center>"
   ]
  },
  {
   "cell_type": "markdown",
   "metadata": {},
   "source": [
    "Analysis is done on the word <b>'Bandersnatch'</b> to gauge latest public sentiment (via tweets) about the movie.\n",
    "\n",
    "Bandersnatch is a psychological thriller interactive film released on December 28, 2018 by Netflix. Since then it is trending in social media for good and bad reason. \n",
    "Good - for an innovative step of interactive content, thriller story and \n",
    "Bad  - as Netflix faces lawsuit over the movie for trademark infringement, false designation of origin, unfair competition and trademark diluation."
   ]
  },
  {
   "cell_type": "code",
   "execution_count": 73,
   "metadata": {},
   "outputs": [],
   "source": [
    "# print all the outputs in a cell\n",
    "from IPython.core.interactiveshell import InteractiveShell\n",
    "InteractiveShell.ast_node_interactivity = \"all\""
   ]
  },
  {
   "cell_type": "code",
   "execution_count": 74,
   "metadata": {},
   "outputs": [],
   "source": [
    "import nltk\n",
    "import re\n",
    "import string"
   ]
  },
  {
   "cell_type": "markdown",
   "metadata": {},
   "source": [
    "# <b>Approach 1 : Using external lexicon file."
   ]
  },
  {
   "cell_type": "markdown",
   "metadata": {},
   "source": [
    "The files containing positive and negative word are downloaded from the website \"http://www.cs.uic.edu/~liub/FBS/sentiment-analysis.html\". The lexicon file is part of below research papers. \n",
    "1. Minqing Hu and Bing Liu. \"Mining and Summarizing Customer Reviews.\" Proceedings of the ACM SIGKDD International Conference on Knowledge Discovery and Data Mining (KDD-2004), Aug 22-25, 2004, Seattle, Washington, USA.\n",
    "2. Bing Liu, Minqing Hu and Junsheng Cheng. \"Opinion Observer: Analyzing and Comparing Opinions on the Web.\" Proceedings of the 14th International World Wide Web conference (WWW-2005), May 10-14, 2005, Chiba, Japan."
   ]
  },
  {
   "cell_type": "code",
   "execution_count": 75,
   "metadata": {},
   "outputs": [],
   "source": [
    "#Read POSITIVE words from file 'positive words.txt' and store in a dictionary. Using dictionary as its look-up performance is much better than the list.\n",
    "read_positive = open('positive_words.txt', 'r')\n",
    "d_positive_words={}\n",
    "for line in read_positive:\n",
    "    word = line.rstrip() \n",
    "    d_positive_words[word]=word\n",
    "read_positive.close()"
   ]
  },
  {
   "cell_type": "code",
   "execution_count": 76,
   "metadata": {},
   "outputs": [],
   "source": [
    "#Read NEGATIVE words from file 'negative words.txt' and store in a dictionary. Using dictionary as its look-up performance is much better than the list.\n",
    "read_negative = open('negative_words.txt', 'r')\n",
    "d_negative_words={}\n",
    "for line in read_negative:\n",
    "    word = line.rstrip() \n",
    "    d_negative_words[word]=word\n",
    "read_negative.close()"
   ]
  },
  {
   "cell_type": "code",
   "execution_count": 77,
   "metadata": {
    "scrolled": true
   },
   "outputs": [],
   "source": [
    "#Read file which contains emojis and other non desirable characters like emoticons, !?@#$%^&*()__+= etc.\n",
    "read_non_desired_char = open('emoji_and_nonalphanumeric.txt', 'r',encoding=\"utf8\")\n",
    "non_desired_char = ''\n",
    "for line in read_non_desired_char:\n",
    "    non_desired_char+=line\n",
    "read_non_desired_char.close() "
   ]
  },
  {
   "cell_type": "code",
   "execution_count": 78,
   "metadata": {
    "scrolled": true
   },
   "outputs": [],
   "source": [
    "#Read bandersnatch.txt file which contins extracted tweets (extracted on Jan 12,2019 1:30 PM). \n",
    "read_tweets = open('bandersnatch.txt', 'r',encoding=\"utf8\")\n",
    "raw_words = []\n",
    "for line in read_tweets:\n",
    "    #raw_words.append((line.strip(non_desired_char)).lower().split())\n",
    "    raw_words.append(line.lower())\n",
    "read_tweets.close() "
   ]
  },
  {
   "cell_type": "markdown",
   "metadata": {},
   "source": [
    "<b>Data Cleaning"
   ]
  },
  {
   "cell_type": "code",
   "execution_count": 79,
   "metadata": {},
   "outputs": [],
   "source": [
    "wn = nltk.WordNetLemmatizer()\n",
    "def f_lemmatize(text):\n",
    "    if text is not None:\n",
    "        #text = [wn.lemmatize(word) for word in text]\n",
    "        text = wn.lemmatize(text)\n",
    "    return text"
   ]
  },
  {
   "cell_type": "code",
   "execution_count": 80,
   "metadata": {},
   "outputs": [],
   "source": [
    "def f_remove_punctuations(text):\n",
    "    if text is not None:\n",
    "        text = \"\".join([word for word in text if word not in string.punctuation])\n",
    "    return text"
   ]
  },
  {
   "cell_type": "code",
   "execution_count": 81,
   "metadata": {},
   "outputs": [],
   "source": [
    "def f_remove_stopwords(text):\n",
    "    if text is not None:\n",
    "        tokens = re.split('\\W+', text)\n",
    "        text = [word for word in tokens if word not in stopwords]\n",
    "    return text"
   ]
  },
  {
   "cell_type": "code",
   "execution_count": 82,
   "metadata": {},
   "outputs": [],
   "source": [
    "stopwords = nltk.corpus.stopwords.words('english')\n",
    "def f_clean_data(text):\n",
    "    if text is not None:\n",
    "        text = f_remove_punctuations(text)\n",
    "        text = f_remove_stopwords(text)\n",
    "    return text"
   ]
  },
  {
   "cell_type": "code",
   "execution_count": 83,
   "metadata": {},
   "outputs": [],
   "source": [
    "clean_words=[]\n",
    "for word in raw_words:\n",
    "    cleanwrd = f_clean_data(word)\n",
    "    sublst =[]\n",
    "    for i in cleanwrd:\n",
    "        if len(i)>0:\n",
    "            sublst.append(f_lemmatize(i))\n",
    "    clean_words.append(sublst)"
   ]
  },
  {
   "cell_type": "markdown",
   "metadata": {},
   "source": [
    "## Solution 1: Using each word to gauge the overall sentiment."
   ]
  },
  {
   "cell_type": "code",
   "execution_count": 84,
   "metadata": {
    "scrolled": true
   },
   "outputs": [
    {
     "name": "stdout",
     "output_type": "stream",
     "text": [
      "Positive words= 8907, Negative words= -7251\n"
     ]
    }
   ],
   "source": [
    "#Define variables to store respective sentiment counts and initialize them to zero.\n",
    "positive_count = 0\n",
    "negative_count = 0\n",
    "neutral_count = 0\n",
    "\n",
    "#For each word, assign a value of +1 for positive sentiment, a value -1 for negative sentiment, or a value of 0 for neutral sentiment.\n",
    "for i in clean_words:\n",
    "    for j in i:\n",
    "        j = j.strip(non_desired_char) #strip non-desired characters like emoticons, !?@#$%^&*()__+= etc.\n",
    "        if j in d_positive_words:\n",
    "            positive_count+=1\n",
    "        elif j in d_negative_words:\n",
    "            negative_count-=1\n",
    "        else:\n",
    "            neutral_count+=0\n",
    "            \n",
    "print(\"Positive words= %d, Negative words= %d\"%(positive_count,negative_count))"
   ]
  },
  {
   "cell_type": "markdown",
   "metadata": {},
   "source": [
    "Below function <b>finalsentiment</b> evaluate sentiments based on the sum of positive(+ve values), negative (-ve values) and neutral (0's) words.\n",
    "1. if the sum is positive (i.e.greater than 0), sentiment is considered as positive.\n",
    "2. if the sum is negative (i.e.less than 0), sentiment is considered as negative.\n",
    "3. if the sum is equal to 0, sentiment is considered as neither positive or negative."
   ]
  },
  {
   "cell_type": "code",
   "execution_count": 85,
   "metadata": {},
   "outputs": [],
   "source": [
    "#Function to evaluate and print overall sentiment\n",
    "def finalsentiment(positive_count,negative_count,neutral_count):\n",
    "    sentiment = positive_count+negative_count+neutral_count\n",
    "    if sentiment>0:\n",
    "        print(\"Solution 1: Extrated tweets shows positive sentiment for the 'bandersnatch' movie.\")\n",
    "    elif sentiment<0:\n",
    "        print(\"Solution 1: Extrated tweets shows negative sentiment for the 'bandersnatch' movie.\")\n",
    "    else:\n",
    "        print(\"Solution 1: Extrated tweets shows neither positive or negative sentiments for the 'bandersnatch' movie.\")"
   ]
  },
  {
   "cell_type": "code",
   "execution_count": 86,
   "metadata": {
    "scrolled": true
   },
   "outputs": [
    {
     "name": "stdout",
     "output_type": "stream",
     "text": [
      "Solution 1: Extrated tweets shows positive sentiment for the 'bandersnatch' movie.\n"
     ]
    }
   ],
   "source": [
    "#Calling above function 'finalsentiment'\n",
    "finalsentiment(positive_count,negative_count,neutral_count)"
   ]
  },
  {
   "cell_type": "markdown",
   "metadata": {},
   "source": [
    "## Solution 2: Using whole 'tweets'  instead of just 'words' to gauge the sentiment.\n",
    "\n",
    "Here, first I have analyed whether tweet is positive or negative. For each tweet I am counting number of positive and negative words. Then,\n",
    "1. If number of positive words in a tweet is <b>greater</b> than negative words, <b>tweet</b> is considered as <b>positive</b>.\n",
    "2. If number of positive words in a tweet is <b>less</b> than negative words, <b>tweet</b> is considered as <b>negative</b>.\n",
    "3. If number of positive words and negative words in a tweet is <b>equal</b> or if there is no postive and negative words in a tweet, <b>tweet</b> is considered as <b>neutral</b>."
   ]
  },
  {
   "cell_type": "code",
   "execution_count": 87,
   "metadata": {},
   "outputs": [
    {
     "name": "stdout",
     "output_type": "stream",
     "text": [
      "Positive tweets= 5114, Negative tweets= 3738, Neutral tweets= 9148, Total tweets:18000 \n"
     ]
    }
   ],
   "source": [
    "#Define variables to store respective sentiment counts and initialize them to zero.\n",
    "positive_tweet_count = 0\n",
    "negative_tweet_count = 0\n",
    "neutral_tweet_count = 0\n",
    "\n",
    "#Loop through each 'tweet' and decide whether tweet is positive or negative or neutral.\n",
    "#For each 'tweet', assign a value of +1 for positive sentiment, a value +1 for negative sentiment, or a value of +1 for neutral sentiment.\n",
    "for i in clean_words:\n",
    "    positive_count = 0 #use to store positive word count for a tweet\n",
    "    negative_count = 0 #use to store negative word count for a tweet\n",
    "    neutral_count = 0\n",
    "    #Loop through each word in a tweet and count number of positve and negative words.\n",
    "    for j in i:\n",
    "        j = j.strip(non_desired_char) #strip non-desired characters like emoticons, !?@#$%^&*()__+= etc.\n",
    "        if j in d_positive_words:\n",
    "            positive_count+=1\n",
    "        elif j in d_negative_words:\n",
    "            negative_count+=1\n",
    "        else:\n",
    "            neutral_count+=0\n",
    "    #Conclude whether tweet positive or negative or neutral\n",
    "    if positive_count > negative_count:\n",
    "        positive_tweet_count+=1\n",
    "    elif positive_count < negative_count:\n",
    "        negative_tweet_count+=1\n",
    "    else:\n",
    "        neutral_tweet_count+=1\n",
    "        \n",
    "print(\"Positive tweets= %d, Negative tweets= %d, Neutral tweets= %d, Total tweets:%d \"%(positive_tweet_count,negative_tweet_count,neutral_tweet_count,len(clean_words)))"
   ]
  },
  {
   "cell_type": "code",
   "execution_count": 88,
   "metadata": {},
   "outputs": [],
   "source": [
    "#Function to evaluate and print overall sentiment\n",
    "def tweetsentiment(positive_tweet_count,negative_tweet_count,neutral_tweet_count):\n",
    "    if positive_tweet_count>negative_tweet_count and positive_tweet_count>neutral_tweet_count:\n",
    "        print(\"Solution 2: Extrated tweets shows positive sentiment for the 'bandersnatch' movie.\")\n",
    "    elif negative_tweet_count>positive_tweet_count and negative_tweet_count>neutral_tweet_count:\n",
    "        print(\"Solution 2: Extrated tweets shows negative sentiment for the 'bandersnatch' movie.\")\n",
    "    else:\n",
    "        print(\"Solution 2: Extrated tweets shows neither positive or negative sentiments for the 'bandersnatch' movie.\")"
   ]
  },
  {
   "cell_type": "code",
   "execution_count": 89,
   "metadata": {},
   "outputs": [
    {
     "name": "stdout",
     "output_type": "stream",
     "text": [
      "Solution 2: Extrated tweets shows neither positive or negative sentiments for the 'bandersnatch' movie.\n"
     ]
    }
   ],
   "source": [
    "#calling function tweetsentiment\n",
    "tweetsentiment(positive_tweet_count,negative_tweet_count,neutral_tweet_count)"
   ]
  },
  {
   "cell_type": "markdown",
   "metadata": {},
   "source": [
    "# Approach 2: Using NLTK library"
   ]
  },
  {
   "cell_type": "code",
   "execution_count": 108,
   "metadata": {},
   "outputs": [],
   "source": [
    "import pandas as pd\n",
    "from nltk.sentiment.vader import SentimentIntensityAnalyzer \n",
    "sid = SentimentIntensityAnalyzer()\n",
    "score=[]\n",
    "for tw in raw_words:\n",
    "    score.append(sid.polarity_scores(tw))"
   ]
  },
  {
   "cell_type": "code",
   "execution_count": 110,
   "metadata": {},
   "outputs": [],
   "source": [
    "df_score = pd.DataFrame(score)"
   ]
  },
  {
   "cell_type": "code",
   "execution_count": 160,
   "metadata": {},
   "outputs": [],
   "source": [
    "df_score['sentiment'] = df_score['compound'].apply(lambda a: 1 if float(a)>0 else -1 if float(a)<0 else 0)"
   ]
  },
  {
   "cell_type": "code",
   "execution_count": 159,
   "metadata": {},
   "outputs": [
    {
     "name": "stdout",
     "output_type": "stream",
     "text": [
      "Solution 2: Extrated tweets shows neither positive or negative sentiments for the 'bandersnatch' movie.\n"
     ]
    }
   ],
   "source": [
    "positive_tweet_count = df_score[df_score.sentiment==1].sentiment.count()\n",
    "negative_tweet_count = df_score[df_score.sentiment==-1].sentiment.count()\n",
    "neutral_tweet_count = df_score[df_score.sentiment==-0].sentiment.count()\n",
    "tweetsentiment(positive_tweet_count,negative_tweet_count,neutral_tweet_count)"
   ]
  }
 ],
 "metadata": {
  "kernelspec": {
   "display_name": "Python 3",
   "language": "python",
   "name": "python3"
  },
  "language_info": {
   "codemirror_mode": {
    "name": "ipython",
    "version": 3
   },
   "file_extension": ".py",
   "mimetype": "text/x-python",
   "name": "python",
   "nbconvert_exporter": "python",
   "pygments_lexer": "ipython3",
   "version": "3.6.4"
  }
 },
 "nbformat": 4,
 "nbformat_minor": 2
}
